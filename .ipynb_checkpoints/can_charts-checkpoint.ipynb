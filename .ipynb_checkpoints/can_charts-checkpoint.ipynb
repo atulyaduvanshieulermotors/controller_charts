{
 "cells": [
  {
   "cell_type": "code",
   "execution_count": 2,
   "id": "d6c494f0",
   "metadata": {},
   "outputs": [
    {
     "name": "stdout",
     "output_type": "stream",
     "text": [
      "sudo: a terminal is required to read the password; either use the -S option to read from standard input or configure an askpass helper\n",
      "\n"
     ]
    },
    {
     "ename": "CANInternalConnectionError",
     "evalue": "",
     "output_type": "error",
     "traceback": [
      "\u001b[0;31m---------------------------------------------------------------------------\u001b[0m",
      "\u001b[0;31mOSError\u001b[0m                                   Traceback (most recent call last)",
      "File \u001b[0;32m~/projects/controller_charts/.testing_env/lib/python3.8/site-packages/can/interfaces/socketcan/socketcan.py:778\u001b[0m, in \u001b[0;36mSocketcanBus._send_once\u001b[0;34m(self, data, channel)\u001b[0m\n\u001b[1;32m    777\u001b[0m     \u001b[38;5;28;01melse\u001b[39;00m:\n\u001b[0;32m--> 778\u001b[0m         sent \u001b[38;5;241m=\u001b[39m \u001b[38;5;28;43mself\u001b[39;49m\u001b[38;5;241;43m.\u001b[39;49m\u001b[43msocket\u001b[49m\u001b[38;5;241;43m.\u001b[39;49m\u001b[43msend\u001b[49m\u001b[43m(\u001b[49m\u001b[43mdata\u001b[49m\u001b[43m)\u001b[49m\n\u001b[1;32m    779\u001b[0m \u001b[38;5;28;01mexcept\u001b[39;00m socket\u001b[38;5;241m.\u001b[39merror \u001b[38;5;28;01mas\u001b[39;00m error:\n",
      "\u001b[0;31mOSError\u001b[0m: [Errno 100] Network is down",
      "\nDuring handling of the above exception, another exception occurred:\n",
      "\u001b[0;31mCanOperationError\u001b[0m                         Traceback (most recent call last)",
      "File \u001b[0;32m~/projects/controller_charts/testing_module/can_module/can_write.py:22\u001b[0m, in \u001b[0;36mwrite_to_can\u001b[0;34m(can_bus, can_msg)\u001b[0m\n\u001b[1;32m     21\u001b[0m \u001b[38;5;28;01mtry\u001b[39;00m:\n\u001b[0;32m---> 22\u001b[0m     \u001b[43mcan_bus\u001b[49m\u001b[38;5;241;43m.\u001b[39;49m\u001b[43msend\u001b[49m\u001b[43m(\u001b[49m\u001b[43mcan_msg\u001b[49m\u001b[43m)\u001b[49m\n\u001b[1;32m     23\u001b[0m     \u001b[38;5;28;01mreturn\u001b[39;00m SUCCESS\n",
      "File \u001b[0;32m~/projects/controller_charts/.testing_env/lib/python3.8/site-packages/can/interfaces/socketcan/socketcan.py:763\u001b[0m, in \u001b[0;36mSocketcanBus.send\u001b[0;34m(self, msg, timeout)\u001b[0m\n\u001b[1;32m    762\u001b[0m channel \u001b[38;5;241m=\u001b[39m \u001b[38;5;28mstr\u001b[39m(msg\u001b[38;5;241m.\u001b[39mchannel) \u001b[38;5;28;01mif\u001b[39;00m msg\u001b[38;5;241m.\u001b[39mchannel \u001b[38;5;28;01melse\u001b[39;00m \u001b[38;5;28;01mNone\u001b[39;00m\n\u001b[0;32m--> 763\u001b[0m sent \u001b[38;5;241m=\u001b[39m \u001b[38;5;28;43mself\u001b[39;49m\u001b[38;5;241;43m.\u001b[39;49m\u001b[43m_send_once\u001b[49m\u001b[43m(\u001b[49m\u001b[43mdata\u001b[49m\u001b[43m,\u001b[49m\u001b[43m \u001b[49m\u001b[43mchannel\u001b[49m\u001b[43m)\u001b[49m\n\u001b[1;32m    764\u001b[0m \u001b[38;5;28;01mif\u001b[39;00m sent \u001b[38;5;241m==\u001b[39m \u001b[38;5;28mlen\u001b[39m(data):\n",
      "File \u001b[0;32m~/projects/controller_charts/.testing_env/lib/python3.8/site-packages/can/interfaces/socketcan/socketcan.py:780\u001b[0m, in \u001b[0;36mSocketcanBus._send_once\u001b[0;34m(self, data, channel)\u001b[0m\n\u001b[1;32m    779\u001b[0m \u001b[38;5;28;01mexcept\u001b[39;00m socket\u001b[38;5;241m.\u001b[39merror \u001b[38;5;28;01mas\u001b[39;00m error:\n\u001b[0;32m--> 780\u001b[0m     \u001b[38;5;28;01mraise\u001b[39;00m can\u001b[38;5;241m.\u001b[39mCanOperationError(\n\u001b[1;32m    781\u001b[0m         \u001b[38;5;124mf\u001b[39m\u001b[38;5;124m\"\u001b[39m\u001b[38;5;124mFailed to transmit: \u001b[39m\u001b[38;5;132;01m{\u001b[39;00merror\u001b[38;5;241m.\u001b[39mstrerror\u001b[38;5;132;01m}\u001b[39;00m\u001b[38;5;124m\"\u001b[39m, error\u001b[38;5;241m.\u001b[39merrno\n\u001b[1;32m    782\u001b[0m     )\n\u001b[1;32m    783\u001b[0m \u001b[38;5;28;01mreturn\u001b[39;00m sent\n",
      "\u001b[0;31mCanOperationError\u001b[0m: Failed to transmit: Network is down [Error Code 100]",
      "\nDuring handling of the above exception, another exception occurred:\n",
      "\u001b[0;31mCANInternalConnectionError\u001b[0m                Traceback (most recent call last)",
      "Input \u001b[0;32mIn [2]\u001b[0m, in \u001b[0;36m<cell line: 19>\u001b[0;34m()\u001b[0m\n\u001b[1;32m     11\u001b[0m can_msg \u001b[38;5;241m=\u001b[39m can\u001b[38;5;241m.\u001b[39mMessage(\n\u001b[1;32m     12\u001b[0m         arbitration_id\u001b[38;5;241m=\u001b[39mCAN_INPUT_ID,\n\u001b[1;32m     13\u001b[0m         data\u001b[38;5;241m=\u001b[39mINPUT_MSG,\n\u001b[1;32m     14\u001b[0m         is_extended_id\u001b[38;5;241m=\u001b[39m\u001b[38;5;28;01mFalse\u001b[39;00m,\n\u001b[1;32m     15\u001b[0m     )\n\u001b[1;32m     17\u001b[0m can_bus \u001b[38;5;241m=\u001b[39m connect_to_can()\n\u001b[0;32m---> 19\u001b[0m write_to_can \u001b[38;5;241m=\u001b[39m \u001b[43mwrite_to_can\u001b[49m\u001b[43m(\u001b[49m\u001b[43mcan_bus\u001b[49m\u001b[43m,\u001b[49m\u001b[43m \u001b[49m\u001b[43mcan_msg\u001b[49m\u001b[43m)\u001b[49m\n",
      "File \u001b[0;32m~/projects/controller_charts/testing_module/can_module/can_write.py:26\u001b[0m, in \u001b[0;36mwrite_to_can\u001b[0;34m(can_bus, can_msg)\u001b[0m\n\u001b[1;32m     24\u001b[0m \u001b[38;5;28;01mexcept\u001b[39;00m \u001b[38;5;167;01mException\u001b[39;00m \u001b[38;5;28;01mas\u001b[39;00m e:\n\u001b[1;32m     25\u001b[0m     can_error_logger\u001b[38;5;241m.\u001b[39mexception(e)\n\u001b[0;32m---> 26\u001b[0m     \u001b[38;5;28;01mraise\u001b[39;00m CANInternalConnectionError\n",
      "\u001b[0;31mCANInternalConnectionError\u001b[0m: "
     ]
    }
   ],
   "source": [
    "%matplotlib notebook\n",
    "import can\n",
    "\n",
    "from testing_module import write_to_can, connect_to_can\n",
    "\n",
    "CAN_INPUT_ID = 0x238\n",
    "INPUT_MSG = [0xB8, 0x0B, 0x14, 0x01, 0x00, 0x00, 0x00, 0x00]\n",
    "\n",
    "can_msg = can.Message(\n",
    "        arbitration_id=CAN_INPUT_ID,\n",
    "        data=INPUT_MSG,\n",
    "        is_extended_id=False,\n",
    "    )\n",
    "\n",
    "can_bus = connect_to_can()\n",
    "write_to_can = write_to_can(can_bus, can_msg)"
   ]
  },
  {
   "cell_type": "code",
   "execution_count": 4,
   "id": "634834f8",
   "metadata": {},
   "outputs": [],
   "source": [
    "%matplotlib notebook\n",
    "\n",
    "%run make_charts.py"
   ]
  },
  {
   "cell_type": "code",
   "execution_count": null,
   "id": "b9a14171",
   "metadata": {},
   "outputs": [],
   "source": []
  },
  {
   "cell_type": "code",
   "execution_count": null,
   "id": "8bb5f388",
   "metadata": {},
   "outputs": [],
   "source": []
  }
 ],
 "metadata": {
  "kernelspec": {
   "display_name": "Python 3 (ipykernel)",
   "language": "python",
   "name": "python3"
  },
  "language_info": {
   "codemirror_mode": {
    "name": "ipython",
    "version": 3
   },
   "file_extension": ".py",
   "mimetype": "text/x-python",
   "name": "python",
   "nbconvert_exporter": "python",
   "pygments_lexer": "ipython3",
   "version": "3.8.10"
  }
 },
 "nbformat": 4,
 "nbformat_minor": 5
}
